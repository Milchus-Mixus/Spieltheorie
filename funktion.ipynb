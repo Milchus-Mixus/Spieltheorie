{
 "cells": [
  {
   "cell_type": "code",
   "execution_count": 8,
   "metadata": {},
   "outputs": [
    {
     "name": "stdout",
     "output_type": "stream",
     "text": [
      "[(0, 1), (2, 7), (3, 0), (2, 2), (1, 6), (3, 1), (0, 5), (0, 6), (2, 1), (0, 3), (1, 0), (3, 5), (0, 4), (1, 2), (0, 2), (2, 5), (1, 1), (0, 7), (0, 0), (3, 6), (3, 7), (3, 3)]\n"
     ]
    }
   ],
   "source": [
    "cards=[(1, 7), (0, 1), (1, 3), (2, 7), (3, 4), (1, 4), (2, 6), (3, 0), (2, 2), (1, 6), (3, 1), (0, 5), (0, 6), (2, 1), (0, 3), (1, 0), (2, 0), (3, 5), (0, 4), (1, 2), (0, 2), (2, 5), (1, 1), (0, 7), (2, 3), (0, 0), (3, 6), (1, 5), (3, 7), (2, 4), (3, 3), (3, 2)]\n",
    "bekannt = [(1, 3), (3, 4), (2, 6), (1, 4), (1, 7), (3, 2), (1, 5), (2, 3), (2, 4), (2, 0)]\n",
    "gegner = [(1, 7), (3, 4), None]\n",
    "eigene = 20\n",
    "\n",
    "def possibilities(cards, bekannt, eigene, gegner):\n",
    "    diff=[item for item in cards if item not in bekannt]\n",
    "    for i in range (0,2):\n",
    "        if gegner[0][0]==gegner[0][1]:\n",
    "            for k in range len(diff):\n",
    "                if gegner[i][0]==diff[k][0]:\n",
    "                        if gegner[i][0]+gegner[i][1]>=eigene\n",
    "                            z=z+1\n",
    "    \n",
    "        else:\n",
    "            for k in range len(diff):\n",
    "                if gegner[i][0]==diff[k][0]:\n",
    "                        if gegner[i][0]>=eigene\n",
    "                            z=z+1\n",
    "    return z\n",
    "\n",
    "print(possibilities(cards, bekannt, eigene, gegner))\n"
   ]
  }
 ],
 "metadata": {
  "kernelspec": {
   "display_name": "Python 3",
   "language": "python",
   "name": "python3"
  },
  "language_info": {
   "codemirror_mode": {
    "name": "ipython",
    "version": 3
   },
   "file_extension": ".py",
   "mimetype": "text/x-python",
   "name": "python",
   "nbconvert_exporter": "python",
   "pygments_lexer": "ipython3",
   "version": "3.10.2"
  },
  "orig_nbformat": 4
 },
 "nbformat": 4,
 "nbformat_minor": 2
}

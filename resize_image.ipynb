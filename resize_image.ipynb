{
 "cells": [
  {
   "cell_type": "code",
   "execution_count": 1,
   "metadata": {},
   "outputs": [],
   "source": [
    "import cv2\n",
    "import matplotlib.pyplot as plt\n",
    "import os"
   ]
  },
  {
   "cell_type": "code",
   "execution_count": 25,
   "metadata": {},
   "outputs": [],
   "source": [
    "for filename in os.listdir(\"PNG-cards-1.3\"):\n",
    "    image = cv2.imread(os.path.join(\"PNG-cards-1.3\", filename))\n",
    "    new_image = cv2.resize(image, None, fx = .5, fy = .5)\n",
    "    if \"diamonds\" in filename:\n",
    "        part1 = 0\n",
    "    elif \"hearts\" in filename:\n",
    "        part1 = 1\n",
    "    elif \"spades\" in filename:\n",
    "        part1 = 2\n",
    "    elif \"clubs\" in filename:\n",
    "        part1 = 3\n",
    "    if \"7\" in filename:\n",
    "        part2 = 0\n",
    "    if \"8\" in filename:\n",
    "        part2 = 1\n",
    "    if \"9\" in filename:\n",
    "        part2 = 2\n",
    "    if \"10\" in filename:\n",
    "        part2 = 3\n",
    "    if \"jack\" in filename:\n",
    "        part2 = 4\n",
    "    if \"queen\" in filename:\n",
    "        part2 = 5\n",
    "    if \"king\" in filename:\n",
    "        part2 = 6\n",
    "    if \"ace\" in filename:\n",
    "        part2 = 7\n",
    "    cv2.imwrite(f'PNG-cards-1.3\\\\{part1}{part2}.png', new_image)"
   ]
  },
  {
   "cell_type": "code",
   "execution_count": 20,
   "metadata": {},
   "outputs": [],
   "source": [
    "c"
   ]
  },
  {
   "cell_type": "code",
   "execution_count": 21,
   "metadata": {},
   "outputs": [
    {
     "data": {
      "text/plain": [
       "[('PNG-cards-1.3',\n",
       "  [],\n",
       "  ['10_of_clubs.png',\n",
       "   '10_of_diamonds.png',\n",
       "   '10_of_hearts.png',\n",
       "   '10_of_spades.png',\n",
       "   '7_of_clubs.png',\n",
       "   '7_of_diamonds.png',\n",
       "   '7_of_hearts.png',\n",
       "   '7_of_spades.png',\n",
       "   '8_of_clubs.png',\n",
       "   '8_of_diamonds.png',\n",
       "   '8_of_hearts.png',\n",
       "   '8_of_spades.png',\n",
       "   '9_of_clubs.png',\n",
       "   '9_of_diamonds.png',\n",
       "   '9_of_hearts.png',\n",
       "   '9_of_spades.png',\n",
       "   'ace_of_clubs.png',\n",
       "   'ace_of_diamonds.png',\n",
       "   'ace_of_hearts.png',\n",
       "   'ace_of_spades.png',\n",
       "   'ace_of_spades2.png',\n",
       "   'black_joker.png',\n",
       "   'jack_of_clubs.png',\n",
       "   'jack_of_clubs2.png',\n",
       "   'jack_of_diamonds.png',\n",
       "   'jack_of_diamonds2.png',\n",
       "   'jack_of_hearts.png',\n",
       "   'jack_of_hearts2.png',\n",
       "   'jack_of_spades.png',\n",
       "   'jack_of_spades2.png',\n",
       "   'king_of_clubs.png',\n",
       "   'king_of_clubs2.png',\n",
       "   'king_of_diamonds.png',\n",
       "   'king_of_diamonds2.png',\n",
       "   'king_of_hearts.png',\n",
       "   'king_of_hearts2.png',\n",
       "   'king_of_spades.png',\n",
       "   'king_of_spades2.png',\n",
       "   'queen_of_clubs.png',\n",
       "   'queen_of_clubs2.png',\n",
       "   'queen_of_diamonds.png',\n",
       "   'queen_of_diamonds2.png',\n",
       "   'queen_of_hearts.png',\n",
       "   'queen_of_hearts2.png',\n",
       "   'queen_of_spades.png',\n",
       "   'queen_of_spades2.png'])]"
      ]
     },
     "execution_count": 21,
     "metadata": {},
     "output_type": "execute_result"
    }
   ],
   "source": []
  },
  {
   "cell_type": "code",
   "execution_count": null,
   "metadata": {},
   "outputs": [],
   "source": []
  }
 ],
 "metadata": {
  "kernelspec": {
   "display_name": "Python 3",
   "language": "python",
   "name": "python3"
  },
  "language_info": {
   "codemirror_mode": {
    "name": "ipython",
    "version": 3
   },
   "file_extension": ".py",
   "mimetype": "text/x-python",
   "name": "python",
   "nbconvert_exporter": "python",
   "pygments_lexer": "ipython3",
   "version": "3.11.4"
  },
  "orig_nbformat": 4
 },
 "nbformat": 4,
 "nbformat_minor": 2
}

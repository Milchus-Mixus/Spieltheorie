{
 "cells": [
  {
   "cell_type": "code",
   "execution_count": 4,
   "metadata": {},
   "outputs": [],
   "source": [
    "import cv2\n",
    "import matplotlib.pyplot as plt\n",
    "import os"
   ]
  },
  {
   "cell_type": "code",
   "execution_count": 5,
   "metadata": {},
   "outputs": [],
   "source": [
    "for filename in os.listdir(\"PNG-cards-1.3\"):\n",
    "    image = cv2.imread(os.path.join(\"PNG-cards-1.3\", filename))\n",
    "    new_image = cv2.resize(image, None, fx = .5, fy = .5)\n",
    "    if \"diamonds\" in filename:\n",
    "        part1 = 0\n",
    "    elif \"hearts\" in filename:\n",
    "        part1 = 1\n",
    "    elif \"spades\" in filename:\n",
    "        part1 = 2\n",
    "    elif \"clubs\" in filename:\n",
    "        part1 = 3\n",
    "    if \"7\" in filename:\n",
    "        part2 = 0\n",
    "    if \"8\" in filename:\n",
    "        part2 = 1\n",
    "    if \"9\" in filename:\n",
    "        part2 = 2\n",
    "    if \"10\" in filename:\n",
    "        part2 = 3\n",
    "    if \"jack\" in filename:\n",
    "        part2 = 4\n",
    "    if \"queen\" in filename:\n",
    "        part2 = 5\n",
    "    if \"king\" in filename:\n",
    "        part2 = 6\n",
    "    if \"ace\" in filename:\n",
    "        part2 = 7\n",
    "    cv2.imwrite(f'PNG-cards-1.3\\\\{filename}.png', new_image)"
   ]
  },
  {
   "cell_type": "code",
   "execution_count": null,
   "metadata": {},
   "outputs": [],
   "source": [
    "\n"
   ]
  },
  {
   "cell_type": "code",
   "execution_count": null,
   "metadata": {},
   "outputs": [],
   "source": []
  },
  {
   "cell_type": "code",
   "execution_count": null,
   "metadata": {},
   "outputs": [],
   "source": []
  }
 ],
 "metadata": {
  "kernelspec": {
   "display_name": "Python 3",
   "language": "python",
   "name": "python3"
  },
  "language_info": {
   "codemirror_mode": {
    "name": "ipython",
    "version": 3
   },
   "file_extension": ".py",
   "mimetype": "text/x-python",
   "name": "python",
   "nbconvert_exporter": "python",
   "pygments_lexer": "ipython3",
   "version": "3.10.2"
  },
  "orig_nbformat": 4
 },
 "nbformat": 4,
 "nbformat_minor": 2
}

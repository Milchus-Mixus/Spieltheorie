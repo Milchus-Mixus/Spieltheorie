{
 "cells": [
  {
   "cell_type": "code",
   "execution_count": 2,
   "metadata": {},
   "outputs": [],
   "source": [
    "import numpy\n",
    "import matplotlib.pyplot as plt\n",
    "from random import shuffle"
   ]
  },
  {
   "cell_type": "code",
   "execution_count": 15,
   "metadata": {},
   "outputs": [],
   "source": [
    "# Kartenfarbe: 0 = Karo; 1 = Herz; 2 = Pik; 3 = Kreuz\n",
    "# Kartenbezeichnung: 0 = 7; 1 = 8; 2 = 9; 3 = Bube; 4 = Dame; 5 = König; 6 = Ass\n",
    "card_values = [7, 8, 9, 10, 10, 10, 11]"
   ]
  },
  {
   "cell_type": "code",
   "execution_count": 16,
   "metadata": {},
   "outputs": [],
   "source": [
    "deck= []\n",
    "for i in range(4):\n",
    "    for j in range(7):\n",
    "        deck.append((i,j))\n",
    "shuffle(deck)"
   ]
  },
  {
   "cell_type": "code",
   "execution_count": 13,
   "metadata": {},
   "outputs": [],
   "source": [
    "hand = deck[:3]\n",
    "oponent_Hand = deck[3:6]\n",
    "open_cards = deck[6:9]\n",
    "remainder = deck[9:]"
   ]
  },
  {
   "cell_type": "code",
   "execution_count": 14,
   "metadata": {},
   "outputs": [
    {
     "name": "stdout",
     "output_type": "stream",
     "text": [
      "[(1, 5), (2, 3), (1, 1), (3, 0), (0, 5), (3, 5), (3, 2), (3, 6), (2, 4), (2, 2), (3, 3), (2, 6), (0, 4), (1, 0), (0, 3), (1, 3), (2, 0), (1, 6), (2, 5), (1, 2), (0, 0), (3, 1), (0, 2), (0, 6), (2, 1), (1, 4), (0, 1), (3, 4)]\n",
      "[(1, 5), (2, 3), (1, 1)] [(3, 0), (0, 5), (3, 5)] [(3, 2), (3, 6), (2, 4)] [(2, 2), (3, 3), (2, 6), (0, 4), (1, 0), (0, 3), (1, 3), (2, 0), (1, 6), (2, 5), (1, 2), (0, 0), (3, 1), (0, 2), (0, 6), (2, 1), (1, 4), (0, 1), (3, 4)]\n"
     ]
    }
   ],
   "source": [
    "def maximize_points(hand, open_cards):\n",
    "    "
   ]
  },
  {
   "cell_type": "code",
   "execution_count": null,
   "metadata": {},
   "outputs": [],
   "source": []
  }
 ],
 "metadata": {
  "kernelspec": {
   "display_name": "Python 3",
   "language": "python",
   "name": "python3"
  },
  "language_info": {
   "codemirror_mode": {
    "name": "ipython",
    "version": 3
   },
   "file_extension": ".py",
   "mimetype": "text/x-python",
   "name": "python",
   "nbconvert_exporter": "python",
   "pygments_lexer": "ipython3",
   "version": "3.11.4"
  },
  "orig_nbformat": 4
 },
 "nbformat": 4,
 "nbformat_minor": 2
}

{
 "cells": [
  {
   "cell_type": "code",
   "execution_count": 1,
   "metadata": {},
   "outputs": [
    {
     "name": "stdout",
     "output_type": "stream",
     "text": [
      "importing Jupyter notebook from SchwimmenSimulation.ipynb\n",
      "[(3, 7), (1, 3), (3, 4)] 1 21\n",
      "[(0, 0), (0, 3), (0, 4)] Offenekarten\n",
      "[(1, 4), (3, 0), (0, 1)] 2 10\n",
      "[(0, 0), (0, 3), (0, 4)] Offenekarten\n",
      "[(0, 2), (3, 3), (2, 1)] 3 10\n",
      "[(0, 0), (1, 4), (0, 4)] Offenekarten\n",
      "[(3, 7), (1, 3), (3, 4)] 1 21\n",
      "[(0, 0), (1, 4), (3, 3)] Offenekarten\n",
      "Player 1 wins.\n"
     ]
    }
   ],
   "source": [
    "import import_ipynb\n",
    "import SchwimmenSimulation\n",
    "from random import shuffle\n",
    "import numpy as np\n",
    "import math"
   ]
  },
  {
   "cell_type": "code",
   "execution_count": 2,
   "metadata": {},
   "outputs": [],
   "source": [
    "class Spieler:\n",
    "    def __init__(self, n, open_cards, hand):\n",
    "        self.known = open_cards + hand \n",
    "        self.opponent_cards = [[None, None, None] for _ in range(n-1)]\n",
    "\n"
   ]
  },
  {
   "cell_type": "code",
   "execution_count": null,
   "metadata": {},
   "outputs": [],
   "source": []
  },
  {
   "cell_type": "code",
   "execution_count": 3,
   "metadata": {},
   "outputs": [
    {
     "name": "stdout",
     "output_type": "stream",
     "text": [
      "[(1, 0), (2, 4), (3, 1)]\n",
      "[(1, 2), (0, 3), (0, 2)]\n"
     ]
    }
   ],
   "source": [
    "deck= []\n",
    "for i in range(4):\n",
    "    for j in range(7):\n",
    "        deck.append((i,j))\n",
    "shuffle(deck)\n",
    "hand = deck[:3]\n",
    "opponent_hand_1 = deck[3:6]\n",
    "opponent_hand_2 = deck[6:9]\n",
    "open_cards = deck[9:12]\n",
    "remainder = deck[12:]\n",
    "print(open_cards)\n",
    "print(hand)"
   ]
  },
  {
   "cell_type": "code",
   "execution_count": 4,
   "metadata": {},
   "outputs": [
    {
     "name": "stdout",
     "output_type": "stream",
     "text": [
      "[(1, 0), (2, 4), (3, 1), (1, 2), (0, 3), (0, 2)]\n",
      "[[None, None, None], [None, None, None]]\n"
     ]
    }
   ],
   "source": [
    "spieler = Spieler(3, open_cards, hand)\n",
    "\n",
    "print(spieler.known)\n",
    "print(spieler.opponent_cards)"
   ]
  },
  {
   "cell_type": "code",
   "execution_count": 5,
   "metadata": {},
   "outputs": [
    {
     "name": "stdout",
     "output_type": "stream",
     "text": [
      "(0, 0)\n"
     ]
    }
   ],
   "source": [
    "print(SchwimmenSimulation.hand_sum([None,None, None]))"
   ]
  },
  {
   "cell_type": "code",
   "execution_count": 6,
   "metadata": {},
   "outputs": [],
   "source": [
    "def wahrscheinlichkeit(n, k, n2):\n",
    "    return math.comb(n - n2, k)/math.comb(n, k)\n"
   ]
  },
  {
   "cell_type": "code",
   "execution_count": 7,
   "metadata": {},
   "outputs": [
    {
     "data": {
      "text/plain": [
       "0.48804226918798665"
      ]
     },
     "execution_count": 7,
     "metadata": {},
     "output_type": "execute_result"
    }
   ],
   "source": [
    "wahrscheinlichkeit(32, 5, 4)"
   ]
  },
  {
   "cell_type": "code",
   "execution_count": null,
   "metadata": {},
   "outputs": [],
   "source": [
    "def two_unknown(hand):\n",
    "    return SchwimmenSimulation.card_values(hand[0]) + 20 if hand[0] else 30"
   ]
  },
  {
   "cell_type": "code",
   "execution_count": 10,
   "metadata": {},
   "outputs": [
    {
     "name": "stdout",
     "output_type": "stream",
     "text": [
      "[(1, 0), (2, 4), (3, 1)]\n",
      "[21, 10]\n"
     ]
    }
   ],
   "source": [
    "def check_for_klopfen(hand, open_cards):\n",
    "    sum = SchwimmenSimulation.hand_sum(hand)\n",
    "    opponent_pot_sum = [SchwimmenSimulation.check_for_best_card(elem, open_cards)[0] for elem in spieler.opponent_cards if elem.count(None) < 2 else two_unknown()]\n",
    "    print(opponent_pot_sum)\n",
    "    if sum < min(opponent_pot_sum):\n",
    "        return False\n",
    "    wsk = [wahrscheinlichkeit(32-len(spieler.known), spieler.opponent_cards[i], possibilities()) for i in range(len(spieler.opponent_cards)) if opponent_pot_sum[i] < sum]\n",
    "    if min(wsk) < 0.5:\n",
    "        return True\n",
    "\n",
    "spieler.opponent_cards[0] = [(2, 7), None, None]\n",
    "print(open_cards)\n",
    "check_for_klopfen(hand, open_cards)"
   ]
  },
  {
   "cell_type": "code",
   "execution_count": 12,
   "metadata": {},
   "outputs": [
    {
     "data": {
      "text/plain": [
       "0"
      ]
     },
     "execution_count": 12,
     "metadata": {},
     "output_type": "execute_result"
    }
   ],
   "source": [
    "sum(filter(None, [None]))"
   ]
  },
  {
   "cell_type": "markdown",
   "metadata": {},
   "source": [
    "# hallo\n"
   ]
  }
 ],
 "metadata": {
  "kernelspec": {
   "display_name": "Python 3",
   "language": "python",
   "name": "python3"
  },
  "language_info": {
   "codemirror_mode": {
    "name": "ipython",
    "version": 3
   },
   "file_extension": ".py",
   "mimetype": "text/x-python",
   "name": "python",
   "nbconvert_exporter": "python",
   "pygments_lexer": "ipython3",
   "version": "3.11.4"
  },
  "orig_nbformat": 4
 },
 "nbformat": 4,
 "nbformat_minor": 2
}

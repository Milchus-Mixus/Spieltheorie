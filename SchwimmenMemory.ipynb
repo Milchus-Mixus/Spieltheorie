{
 "cells": [
  {
   "cell_type": "code",
   "execution_count": 27,
   "metadata": {},
   "outputs": [],
   "source": [
    "import import_ipynb\n",
    "import SchwimmenSimulation\n",
    "from random import shuffle\n",
    "import numpy as np\n",
    "import math"
   ]
  },
  {
   "cell_type": "code",
   "execution_count": 28,
   "metadata": {},
   "outputs": [],
   "source": [
    "class Spieler:\n",
    "    def __init__(self, n, open_cards, hand):\n",
    "        self.known = open_cards + hand \n",
    "        self.opponent_cards = [[None, None, None] for _ in range(n-1)]\n",
    "\n"
   ]
  },
  {
   "cell_type": "code",
   "execution_count": null,
   "metadata": {},
   "outputs": [],
   "source": []
  },
  {
   "cell_type": "code",
   "execution_count": 29,
   "metadata": {},
   "outputs": [
    {
     "name": "stdout",
     "output_type": "stream",
     "text": [
      "[(3, 3), (1, 1), (1, 5)]\n",
      "[(3, 6), (2, 4), (2, 2)]\n"
     ]
    }
   ],
   "source": [
    "deck= []\n",
    "for i in range(4):\n",
    "    for j in range(7):\n",
    "        deck.append((i,j))\n",
    "shuffle(deck)\n",
    "hand = deck[:3]\n",
    "opponent_hand_1 = deck[3:6]\n",
    "opponent_hand_2 = deck[6:9]\n",
    "open_cards = deck[9:12]\n",
    "remainder = deck[12:]\n",
    "print(open_cards)\n",
    "print(hand)"
   ]
  },
  {
   "cell_type": "code",
   "execution_count": 30,
   "metadata": {},
   "outputs": [
    {
     "name": "stdout",
     "output_type": "stream",
     "text": [
      "[(3, 3), (1, 1), (1, 5), (3, 6), (2, 4), (2, 2)]\n",
      "[[None, None, None], [None, None, None]]\n"
     ]
    }
   ],
   "source": [
    "spieler = Spieler(3, open_cards, hand)\n",
    "\n",
    "print(spieler.known)\n",
    "print(spieler.opponent_cards)"
   ]
  },
  {
   "cell_type": "code",
   "execution_count": 31,
   "metadata": {},
   "outputs": [
    {
     "name": "stdout",
     "output_type": "stream",
     "text": [
      "0.0\n"
     ]
    }
   ],
   "source": [
    "print(SchwimmenSimulation.hand_sum([None,None, None]))"
   ]
  },
  {
   "cell_type": "code",
   "execution_count": 32,
   "metadata": {},
   "outputs": [],
   "source": [
    "def wahrscheinlichkeit(n, k, n2):\n",
    "    return math.comb(n - n2, k)/math.comb(n, k)\n"
   ]
  },
  {
   "cell_type": "code",
   "execution_count": 33,
   "metadata": {},
   "outputs": [
    {
     "data": {
      "text/plain": [
       "0.48804226918798665"
      ]
     },
     "execution_count": 33,
     "metadata": {},
     "output_type": "execute_result"
    }
   ],
   "source": [
    "wahrscheinlichkeit(32, 5, 4)"
   ]
  },
  {
   "cell_type": "code",
   "execution_count": 34,
   "metadata": {},
   "outputs": [
    {
     "ename": "AttributeError",
     "evalue": "module 'SchwimmenSimulation' has no attribute 'check_for_best_card'",
     "output_type": "error",
     "traceback": [
      "\u001b[1;31m---------------------------------------------------------------------------\u001b[0m",
      "\u001b[1;31mAttributeError\u001b[0m                            Traceback (most recent call last)",
      "Cell \u001b[1;32mIn[34], line 6\u001b[0m\n\u001b[0;32m      3\u001b[0m     opponent_pot_sum \u001b[39m=\u001b[39m [SchwimmenSimulation\u001b[39m.\u001b[39mcheck_for_best_card(elem, open_cards)[\u001b[39m0\u001b[39m] \u001b[39mfor\u001b[39;00m elem \u001b[39min\u001b[39;00m spieler\u001b[39m.\u001b[39mopponent_cards]\n\u001b[0;32m      4\u001b[0m     \u001b[39mprint\u001b[39m(opponent_pot_sum)\n\u001b[1;32m----> 6\u001b[0m check_for_klopfen(hand, open_cards)\n",
      "Cell \u001b[1;32mIn[34], line 3\u001b[0m, in \u001b[0;36mcheck_for_klopfen\u001b[1;34m(hand, open_cards)\u001b[0m\n\u001b[0;32m      1\u001b[0m \u001b[39mdef\u001b[39;00m \u001b[39mcheck_for_klopfen\u001b[39m(hand, open_cards):\n\u001b[0;32m      2\u001b[0m     \u001b[39msum\u001b[39m \u001b[39m=\u001b[39m SchwimmenSimulation\u001b[39m.\u001b[39mhand_sum(hand)\n\u001b[1;32m----> 3\u001b[0m     opponent_pot_sum \u001b[39m=\u001b[39m [SchwimmenSimulation\u001b[39m.\u001b[39;49mcheck_for_best_card(elem, open_cards)[\u001b[39m0\u001b[39;49m] \u001b[39mfor\u001b[39;49;00m elem \u001b[39min\u001b[39;49;00m spieler\u001b[39m.\u001b[39;49mopponent_cards]\n\u001b[0;32m      4\u001b[0m     \u001b[39mprint\u001b[39m(opponent_pot_sum)\n",
      "Cell \u001b[1;32mIn[34], line 3\u001b[0m, in \u001b[0;36m<listcomp>\u001b[1;34m(.0)\u001b[0m\n\u001b[0;32m      1\u001b[0m \u001b[39mdef\u001b[39;00m \u001b[39mcheck_for_klopfen\u001b[39m(hand, open_cards):\n\u001b[0;32m      2\u001b[0m     \u001b[39msum\u001b[39m \u001b[39m=\u001b[39m SchwimmenSimulation\u001b[39m.\u001b[39mhand_sum(hand)\n\u001b[1;32m----> 3\u001b[0m     opponent_pot_sum \u001b[39m=\u001b[39m [SchwimmenSimulation\u001b[39m.\u001b[39;49mcheck_for_best_card(elem, open_cards)[\u001b[39m0\u001b[39m] \u001b[39mfor\u001b[39;00m elem \u001b[39min\u001b[39;00m spieler\u001b[39m.\u001b[39mopponent_cards]\n\u001b[0;32m      4\u001b[0m     \u001b[39mprint\u001b[39m(opponent_pot_sum)\n",
      "\u001b[1;31mAttributeError\u001b[0m: module 'SchwimmenSimulation' has no attribute 'check_for_best_card'"
     ]
    }
   ],
   "source": [
    "def check_for_klopfen(hand, open_cards):\n",
    "    sum = SchwimmenSimulation.hand_sum(hand)\n",
    "    opponent_pot_sum = [SchwimmenSimulation.check_for_best_card(elem, open_cards)[0] for elem in spieler.opponent_cards]\n",
    "    print(opponent_pot_sum)\n",
    "\n",
    "check_for_klopfen(hand, open_cards)"
   ]
  }
 ],
 "metadata": {
  "kernelspec": {
   "display_name": "Python 3",
   "language": "python",
   "name": "python3"
  },
  "language_info": {
   "codemirror_mode": {
    "name": "ipython",
    "version": 3
   },
   "file_extension": ".py",
   "mimetype": "text/x-python",
   "name": "python",
   "nbconvert_exporter": "python",
   "pygments_lexer": "ipython3",
   "version": "3.11.4"
  },
  "orig_nbformat": 4
 },
 "nbformat": 4,
 "nbformat_minor": 2
}

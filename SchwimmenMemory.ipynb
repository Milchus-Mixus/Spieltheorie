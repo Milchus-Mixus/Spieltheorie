{
 "cells": [
  {
   "cell_type": "code",
   "execution_count": 18,
   "metadata": {},
   "outputs": [],
   "source": [
    "import import_ipynb\n",
    "import SchwimmenSimulation\n",
    "from random import shuffle"
   ]
  },
  {
   "cell_type": "code",
   "execution_count": 26,
   "metadata": {},
   "outputs": [],
   "source": [
    "class Spieler:\n",
    "    def __init__(self, n, open_cards, hand):\n",
    "        self.known = open_cards + hand\n",
    "        self.opponent_cards = [[None, None, None] for _ in range(n-1)]\n",
    "\n"
   ]
  },
  {
   "cell_type": "code",
   "execution_count": 27,
   "metadata": {},
   "outputs": [
    {
     "name": "stdout",
     "output_type": "stream",
     "text": [
      "[(3, 3), (0, 2), (1, 6)]\n",
      "[(2, 0), (0, 5), (2, 3)]\n"
     ]
    }
   ],
   "source": [
    "deck= []\n",
    "for i in range(4):\n",
    "    for j in range(7):\n",
    "        deck.append((i,j))\n",
    "shuffle(deck)\n",
    "hand = deck[:3]\n",
    "opponent_hand_1 = deck[3:6]\n",
    "opponent_hand_2 = deck[6:9]\n",
    "open_cards = deck[9:12]\n",
    "remainder = deck[12:]\n",
    "print(open_cards)\n",
    "print(hand)"
   ]
  },
  {
   "cell_type": "code",
   "execution_count": 28,
   "metadata": {},
   "outputs": [
    {
     "name": "stdout",
     "output_type": "stream",
     "text": [
      "[(3, 3), (0, 2), (1, 6), (2, 0), (0, 5), (2, 3)]\n",
      "[[None, None, None], [None, None, None]]\n"
     ]
    }
   ],
   "source": [
    "spieler = Spieler(3, open_cards, hand)\n",
    "\n",
    "print(spieler.known)\n",
    "print(spieler.opponent_cards)"
   ]
  }
 ],
 "metadata": {
  "kernelspec": {
   "display_name": "Python 3",
   "language": "python",
   "name": "python3"
  },
  "language_info": {
   "codemirror_mode": {
    "name": "ipython",
    "version": 3
   },
   "file_extension": ".py",
   "mimetype": "text/x-python",
   "name": "python",
   "nbconvert_exporter": "python",
   "pygments_lexer": "ipython3",
   "version": "3.11.4"
  },
  "orig_nbformat": 4
 },
 "nbformat": 4,
 "nbformat_minor": 2
}

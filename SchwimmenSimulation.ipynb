{
 "cells": [
  {
   "cell_type": "code",
   "execution_count": 607,
   "metadata": {},
   "outputs": [],
   "source": [
    "import numpy as np\n",
    "import matplotlib.pyplot as plt\n",
    "from random import shuffle"
   ]
  },
  {
   "cell_type": "code",
   "execution_count": 608,
   "metadata": {},
   "outputs": [],
   "source": [
    "# Kartenfarbe: 0 = Karo; 1 = Herz; 2 = Pik; 3 = Kreuz\n",
    "# Kartenbezeichnung: 0 = 7; 1 = 8; 2 = 9; 3 = Bube; 4 = Dame; 5 = König; 6 = Ass\n",
    "card_values = [7, 8, 9, 10, 10, 10, 11]"
   ]
  },
  {
   "cell_type": "code",
   "execution_count": 609,
   "metadata": {},
   "outputs": [],
   "source": [
    "deck= []\n",
    "for i in range(4):\n",
    "    for j in range(7):\n",
    "        deck.append((i,j))\n",
    "shuffle(deck)"
   ]
  },
  {
   "cell_type": "code",
   "execution_count": 610,
   "metadata": {},
   "outputs": [],
   "source": [
    "hand = deck[:3]\n",
    "oponent_Hand_1 = deck[3:6]\n",
    "oponent_hand_2 = deck[6:9]\n",
    "open_cards = deck[9:12]\n",
    "remainder = deck[12:]"
   ]
  },
  {
   "cell_type": "code",
   "execution_count": 611,
   "metadata": {},
   "outputs": [],
   "source": [
    "def hand_sum(hand):\n",
    "    points = np.zeros(4)\n",
    "    for elem in hand:\n",
    "        points[elem[0]] += card_values[elem[1]]\n",
    "    return np.max(points)"
   ]
  },
  {
   "cell_type": "code",
   "execution_count": 612,
   "metadata": {},
   "outputs": [],
   "source": [
    "def turn(hand, open_cards):\n",
    "    best_card = [hand_sum(hand), None, None]\n",
    "    for card in open_cards:\n",
    "        for position in range(3):\n",
    "            test_hand = hand.copy()\n",
    "            test_hand[position] = card\n",
    "            handsum = hand_sum(test_hand)\n",
    "            if handsum > best_card[0]:\n",
    "                best_card[0], best_card[1], best_card[2] = handsum, open_cards.index(card), position\n",
    "    if hand_sum(hand) < hand_sum(open_cards):\n",
    "        hand, open_cards = open_cards, hand\n",
    "        return\n",
    "    if best_card[1] != None:\n",
    "        hand[best_card[2]], open_cards[best_card[1]] = open_cards[best_card[1]], hand[best_card[2]]\n",
    "    return"
   ]
  },
  {
   "cell_type": "code",
   "execution_count": 613,
   "metadata": {},
   "outputs": [
    {
     "name": "stdout",
     "output_type": "stream",
     "text": [
      "[(3, 5), (1, 0), (1, 4)] 17.0\n",
      "[(1, 2), (1, 0), (1, 4)] 26.0\n",
      "[(1, 2), (1, 0), (1, 4)] 26.0\n",
      "[(1, 2), (1, 0), (1, 4)] 26.0\n"
     ]
    }
   ],
   "source": [
    "for _ in range(4):\n",
    "    print(hand, hand_sum(hand))\n",
    "    turn(hand, open_cards)\n",
    "    turn(oponent_Hand_1, open_cards)\n",
    "    turn(oponent_hand_2, open_cards)"
   ]
  },
  {
   "cell_type": "markdown",
   "metadata": {},
   "source": []
  },
  {
   "cell_type": "code",
   "execution_count": null,
   "metadata": {},
   "outputs": [],
   "source": []
  },
  {
   "cell_type": "code",
   "execution_count": null,
   "metadata": {},
   "outputs": [],
   "source": []
  },
  {
   "cell_type": "code",
   "execution_count": null,
   "metadata": {},
   "outputs": [],
   "source": []
  }
 ],
 "metadata": {
  "kernelspec": {
   "display_name": "Python 3",
   "language": "python",
   "name": "python3"
  },
  "language_info": {
   "codemirror_mode": {
    "name": "ipython",
    "version": 3
   },
   "file_extension": ".py",
   "mimetype": "text/x-python",
   "name": "python",
   "nbconvert_exporter": "python",
   "pygments_lexer": "ipython3",
   "version": "3.11.4"
  },
  "orig_nbformat": 4
 },
 "nbformat": 4,
 "nbformat_minor": 2
}

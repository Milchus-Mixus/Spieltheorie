{
 "cells": [
  {
   "cell_type": "code",
<<<<<<< HEAD
   "execution_count": 8,
=======
   "execution_count": 82,
>>>>>>> 24dc6ff425ff0f6c0f4d75d50e665c9ba50a9874
   "metadata": {},
   "outputs": [],
   "source": [
    "import numpy as np\n",
    "import matplotlib.pyplot as plt\n",
    "from random import shuffle\n",
<<<<<<< HEAD
    "import time\n",
    "import tkinter"
=======
    "#HALLO"
>>>>>>> e5663635289c140eeb7b07f6fc88b5db4d1f20f5
   ]
  },
  {
   "cell_type": "code",
<<<<<<< HEAD
   "execution_count": 9,
=======
   "execution_count": 83,
>>>>>>> 24dc6ff425ff0f6c0f4d75d50e665c9ba50a9874
   "metadata": {},
   "outputs": [],
   "source": [
    "# Kartenfarbe: 0 = Karo; 1 = Herz; 2 = Pik; 3 = Kreuz\n",
    "# Kartenbezeichnung: 0 = 7; 1 = 8; 2 = 9; 3 = 10; 4 = Bube, 5 = Dame; 6 = König, 7 = Ass\n",
    "card_values = [7, 8, 9, 10, 10, 10, 10, 11]\n",
    "CorX=[290, 420, 550, 290, 420, 550, 30, 160, 290, 550, 680, 810]\n",
    "CorY=[420, 420, 420, 220, 220, 220, 20, 20, 20, 20, 20, 20]"
   ]
  },
  {
   "cell_type": "code",
<<<<<<< HEAD
   "execution_count": 10,
=======
   "execution_count": 84,
>>>>>>> 24dc6ff425ff0f6c0f4d75d50e665c9ba50a9874
   "metadata": {},
   "outputs": [],
   "source": [
    "deck= []\n",
    "for i in range(4):\n",
    "    for j in range(8):\n",
    "        deck.append((i,j))\n",
    "shuffle(deck)"
   ]
  },
  {
   "cell_type": "code",
<<<<<<< HEAD
   "execution_count": 11,
=======
   "execution_count": 85,
>>>>>>> 24dc6ff425ff0f6c0f4d75d50e665c9ba50a9874
   "metadata": {},
   "outputs": [],
   "source": [
    "hand = deck[:3]\n",
    "oponent_Hand_1 = deck[3:6]\n",
    "oponent_hand_2 = deck[6:9]\n",
    "open_cards = deck[9:12]\n",
    "remainder = deck[12:]"
   ]
  },
  {
   "cell_type": "code",
<<<<<<< HEAD
   "execution_count": 12,
=======
   "execution_count": 86,
>>>>>>> 24dc6ff425ff0f6c0f4d75d50e665c9ba50a9874
   "metadata": {},
   "outputs": [],
   "source": [
    "def hand_sum(hand):\n",
    "    points = np.zeros(4)\n",
    "    for elem in hand:\n",
    "        points[elem[0]] += card_values[elem[1]]\n",
    "    return np.max(points)"
   ]
  },
  {
   "cell_type": "code",
<<<<<<< HEAD
   "execution_count": 13,
=======
   "execution_count": 87,
>>>>>>> 24dc6ff425ff0f6c0f4d75d50e665c9ba50a9874
   "metadata": {},
   "outputs": [],
   "source": [
    "def turn(hand, open_cards):\n",
    "    best_card = [hand_sum(hand), None, None]\n",
    "    for card in open_cards:\n",
    "        for position in range(3):\n",
    "            test_hand = hand.copy()\n",
    "            test_hand[position] = card\n",
    "            handsum = hand_sum(test_hand)\n",
    "            if handsum > best_card[0]:\n",
    "                best_card[0], best_card[1], best_card[2] = handsum, open_cards.index(card), position\n",
    "    if best_card[1] != None:\n",
    "        hand[best_card[2]], open_cards[best_card[1]] = open_cards[best_card[1]], hand[best_card[2]]\n",
    "    if hand_sum(hand) >= 31:\n",
    "        return True\n",
    "    return "
   ]
  },
  {
   "cell_type": "code",
<<<<<<< HEAD
   "execution_count": 14,
=======
   "execution_count": 88,
>>>>>>> 24dc6ff425ff0f6c0f4d75d50e665c9ba50a9874
   "metadata": {},
   "outputs": [
    {
     "name": "stdout",
     "output_type": "stream",
     "text": [
<<<<<<< HEAD
      "[(2, 2), (3, 5), (1, 2)] 1 10.0\n",
      "[(1, 6), (0, 7), (1, 0)] Offenekarten\n",
      "[(0, 0), (2, 5), (1, 7)] 2 11.0\n",
      "[(1, 6), (0, 7), (1, 0)] Offenekarten\n",
      "[(2, 0), (1, 3), (0, 1)] 3 10.0\n",
      "[(1, 6), (0, 7), (1, 0)] Offenekarten\n",
      "Schiebung\n",
      "[(2, 2), (3, 5), (1, 2)] 1 10.0\n",
      "[(2, 7), (0, 2), (3, 6)] Offenekarten\n",
      "[(0, 0), (2, 5), (1, 7)] 2 11.0\n",
      "[(2, 7), (0, 2), (3, 6)] Offenekarten\n",
      "[(2, 0), (1, 3), (0, 1)] 3 10.0\n",
      "[(0, 0), (0, 2), (3, 6)] Offenekarten\n",
      "[(2, 2), (3, 5), (1, 2)] 1 10.0\n",
      "[(0, 0), (0, 2), (3, 6)] Offenekarten\n",
      "Schiebung\n",
      "[(2, 7), (2, 5), (1, 7)] 2 21.0\n",
      "[(0, 5), (2, 3), (2, 6)] Offenekarten\n",
=======
      "[(2, 7), (1, 1), (0, 5)] 1 11.0\n",
      "[(0, 0), (2, 1), (3, 3)] Offenekarten\n",
      "[(3, 6), (3, 0), (0, 3)] 2 17.0\n",
      "[(0, 0), (1, 1), (3, 3)] Offenekarten\n",
      "[(0, 7), (3, 7), (1, 0)] 3 11.0\n",
      "[(0, 0), (1, 1), (0, 3)] Offenekarten\n",
      "[(2, 7), (2, 1), (0, 5)] 1 19.0\n",
      "[(0, 0), (1, 1), (3, 7)] Offenekarten\n",
      "[(3, 6), (3, 0), (3, 3)] 2 27.0\n",
      "[(0, 0), (1, 1), (3, 7)] Offenekarten\n",
>>>>>>> 24dc6ff425ff0f6c0f4d75d50e665c9ba50a9874
      "Player 2 wins.\n"
     ]
    }
   ],
   "source": [
    "no_action = 0\n",
    "players = [hand, oponent_Hand_1, oponent_hand_2]\n",
    "window = tkinter.Tk()\n",
    "window.title(\"FIVK\")\n",
    "for i in range(1000):\n",
    "    if no_action == 3:\n",
    "        print(\"Schiebung\")\n",
    "        open_cards, remainder[:3] = remainder[:3], open_cards\n",
    "        shuffle(remainder)\n",
    "        no_action = 0\n",
    "    open_cards_before = open_cards.copy()\n",
    "    print(players[i%3], i%3 + 1,  hand_sum(players[i%3]))\n",
    "    print(open_cards, \"Offenekarten\")\n",
    "    outcome = turn(players[i%3], open_cards)\n",
    "    if outcome == True:\n",
    "        print(f'Player {i%3 + 1} wins.')\n",
    "        break\n",
    "    if open_cards == open_cards_before:\n",
    "        no_action += 1\n",
    "    Hand = hand + open_cards + oponent_Hand_1 + oponent_hand_2\n",
    "    for k in range (6,12):\n",
    "        Hand[k] = (2,4)\n",
    "    cards = [] \n",
    "    for card in Hand:\n",
    "        cards.append(f'PNG-cards-1.3\\\\{card[0]}{card[1]}.png') \n",
    "    for i in range (0, 12):\n",
    "        Bild = tkinter.PhotoImage(file = cards[i])\n",
    "        Position = tkinter.Label(image = Bild)\n",
    "        Position.photo=Bild\n",
    "        Position.place(x=CorX[i], y=CorY[i])\n",
    "\n",
    "window.mainloop()\n"
   ]
  },
  {
   "cell_type": "code",
   "execution_count": null,
   "metadata": {},
   "outputs": [],
   "source": []
  }
 ],
 "metadata": {
  "kernelspec": {
   "display_name": "Python 3",
   "language": "python",
   "name": "python3"
  },
  "language_info": {
   "codemirror_mode": {
    "name": "ipython",
    "version": 3
   },
   "file_extension": ".py",
   "mimetype": "text/x-python",
   "name": "python",
   "nbconvert_exporter": "python",
   "pygments_lexer": "ipython3",
   "version": "3.10.2"
  },
  "orig_nbformat": 4
 },
 "nbformat": 4,
 "nbformat_minor": 2
}

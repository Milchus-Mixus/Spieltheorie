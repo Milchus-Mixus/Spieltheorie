{
 "cells": [
  {
   "cell_type": "code",
   "execution_count": 55,
   "metadata": {},
   "outputs": [],
   "source": [
    "import numpy as np\n",
    "import matplotlib.pyplot as plt\n",
    "from random import shuffle\n",
    "import time\n",
    "import tkinter\n",
    "import tkinter as tk"
   ]
  },
  {
   "cell_type": "code",
   "execution_count": 56,
   "metadata": {},
   "outputs": [],
   "source": [
    "# Kartenfarbe: 0 = Karo; 1 = Herz; 2 = Pik; 3 = Kreuz\n",
    "# Kartenbezeichnung: 0 = 7; 1 = 8; 2 = 9; 3 = 10; 4 = Bube, 5 = Dame; 6 = König, 7 = Ass\n",
    "card_values = [7, 8, 9, 10, 10, 10, 10, 11]\n",
    "CorX=[290, 420, 550, 290, 420, 550, 30, 160, 290, 550, 680, 810]\n",
    "CorY=[420, 420, 420, 220, 220, 220, 20, 20, 20, 20, 20, 20]"
   ]
  },
  {
   "cell_type": "code",
   "execution_count": 57,
   "metadata": {},
   "outputs": [],
   "source": [
    "deck= []\n",
    "for i in range(4):\n",
    "    for j in range(8):\n",
    "        deck.append((i,j))\n",
    "shuffle(deck)"
   ]
  },
  {
   "cell_type": "code",
   "execution_count": 58,
   "metadata": {},
   "outputs": [],
   "source": [
    "hand = deck[:3]\n",
    "oponent_Hand_1 = deck[3:6]\n",
    "oponent_hand_2 = deck[6:9]\n",
    "open_cards = deck[9:12]\n",
    "remainder = deck[12:]"
   ]
  },
  {
   "cell_type": "code",
   "execution_count": 59,
   "metadata": {},
   "outputs": [],
   "source": [
    "def hand_sum(hand):\n",
    "    points = [0,0,0,0]\n",
    "    for elem in hand:\n",
    "        if elem is not None:\n",
    "            points[elem[0]] += card_values[elem[1]]\n",
    "    return (np.max(points), points.index(np.max(points)))"
   ]
  },
  {
   "cell_type": "code",
   "execution_count": 60,
   "metadata": {},
   "outputs": [],
   "source": [
    "def check_for_best_card(hand, open_cards):\n",
    "    best_card = [hand_sum(hand)[0], None, None]\n",
    "    for card in open_cards:\n",
    "        for position in range(3):\n",
    "            test_hand = hand.copy()\n",
    "            test_hand[position] = card\n",
    "            handsum = hand_sum(test_hand)[0]\n",
    "            if handsum > best_card[0]:\n",
    "                best_card[0], best_card[1], best_card[2] = handsum, open_cards.index(card), position\n",
    "    return best_card"
   ]
  },
  {
   "cell_type": "code",
   "execution_count": 61,
   "metadata": {},
   "outputs": [],
   "source": [
    "def turn(hand, open_cards):\n",
    "    best_card = check_for_best_card(hand, open_cards)\n",
    "    if best_card[1] != None:\n",
    "        hand[best_card[2]], open_cards[best_card[1]] = open_cards[best_card[1]], hand[best_card[2]]\n",
    "    if hand_sum(hand)[0] >= 31:\n",
    "        return True\n",
    "    return "
   ]
  },
  {
   "cell_type": "code",
   "execution_count": 62,
   "metadata": {},
   "outputs": [],
   "source": [
    "def update():\n",
    "    global label\n",
    "    Hand = hand + open_cards\n",
    "    cards = [] \n",
    "    for card in Hand:\n",
    "        cards.append(f'PNG-cards-1.3\\\\{card[0]}{card[1]}.png')\n",
    "    for j in range(6):\n",
    "        img = tkinter.PhotoImage(file = cards[j])\n",
    "        label[j].configure(image=img)\n",
    "        label[j].image = img\n"
   ]
  },
  {
   "cell_type": "code",
   "execution_count": 63,
   "metadata": {},
   "outputs": [
    {
     "name": "stdout",
     "output_type": "stream",
     "text": [
      "[(1, 4), (2, 6), (2, 2)] 1 19\n",
      "[(1, 0), (0, 5), (1, 3)] Offenekarten\n",
      "[(3, 7), (3, 1), (0, 7)] 2 19\n",
      "[(1, 0), (0, 5), (2, 6)] Offenekarten\n",
      "[(1, 2), (1, 6), (0, 4)] 3 19\n",
      "[(1, 0), (3, 7), (2, 6)] Offenekarten\n",
      "[(1, 4), (1, 3), (2, 2)] 1 20\n",
      "[(0, 4), (3, 7), (2, 6)] Offenekarten\n",
      "[(0, 5), (3, 1), (0, 7)] 2 21\n",
      "[(0, 4), (3, 7), (2, 6)] Offenekarten\n",
      "Player 2 wins.\n"
     ]
    }
   ],
   "source": [
    "\n",
    "no_action = 0\n",
    "players = [hand, oponent_Hand_1, oponent_hand_2]\n",
    "\n",
    "def finish():\n",
    "    global finish_run\n",
    "    finish_run = True\n",
    "    await_next_step.set(1)\n",
    "\n",
    "window = tkinter.Tk()\n",
    "window.title(\"Schwimmen\")\n",
    "window.configure(background=\"green\")\n",
    "window.attributes(\"-topmost\", True)\n",
    "window.state(\"zoomed\")\n",
    "button1 = tkinter.Button(window, text=\"Nächster\\n Zug\",command= lambda: await_next_step.set(1))\n",
    "button1.place(x=800, y=550, width=70, height=40)\n",
    "button2 = tkinter.Button(window, text=\"Fertig\\n Spielen\",command=finish)\n",
    "button2.place(x=800, y=450, width=70, height=40)\n",
    "player2background = tk.Button(window, bg=\"green\")\n",
    "player2background.place(x = 25, y = 15, width = 400, height = 197)\n",
    "player3background = tk.Button(window, bg=\"green\")\n",
    "player3background.place(x = 545, y = 15, width = 400, height = 197)\n",
    "player1background = tk.Button(window, bg = \"green\")\n",
    "player1background.place(x = 285, y = 415, width = 400, height = 197)\n",
    "open_cards_background = tk.Button(window, bg = \"green\")\n",
    "open_cards_background.place(x = 285, y = 215, width = 400, height = 195)\n",
    "playerbackgrounds = [player1background, player2background, player3background]\n",
    "await_next_step = tk.IntVar()\n",
    "finish_run = False\n",
    "\n",
    "\n",
    "\n",
    "def schiebung():\n",
    "    Schiebung.place_forget()\n",
    "\n",
    "label = []\n",
    "for i in range(12):\n",
    "    img = tkinter.PhotoImage(file= \"PNG-cards-1.3\\\\48.png\")\n",
    "    label.append(tkinter.Label(image=img))\n",
    "    label[i].place(x = CorX[i], y = CorY[i])\n",
    "    label[i].image = img\n",
    "\n",
    "Schiebung = tkinter.Button(text=\"Drei Mal geschoben,\\n Karten in der Mittte werden getauscht\") \n",
    "update()\n",
    "for i in range(1000):\n",
    "    playerbackgrounds[i%3].config(bg = \"red\")\n",
    "    window.update()\n",
    "    if no_action == 3:\n",
    "        Schiebung.place(x=325, y=300, width=300, height=50)\n",
    "        window.after(2500, schiebung)\n",
    "        print(\"Schiebung\") \n",
    "        open_cards, remainder[:3] = remainder[:3], open_cards\n",
    "        shuffle(remainder)\n",
    "        no_action = 0\n",
    "    open_cards_before = open_cards.copy()\n",
    "    print(players[i%3], i%3 + 1,  hand_sum(players[i%3])[0])\n",
    "    print(open_cards, \"Offenekarten\")\n",
    "    outcome = turn(players[i%3], open_cards)\n",
    "    if outcome == True:\n",
    "        playerbackgrounds[i%3].config(bg = \"yellow\")\n",
    "        print(f'Player {i%3 + 1} wins.')\n",
    "        Hand = hand + open_cards + oponent_Hand_1 + oponent_hand_2\n",
    "        cards = [] \n",
    "        for card in Hand:\n",
    "            cards.append(f'PNG-cards-1.3\\\\{card[0]}{card[1]}.png')\n",
    "        for k in range(12):\n",
    "            img = tkinter.PhotoImage(file = cards[k])\n",
    "            label[k].config(image=img)\n",
    "            label[k].image = img\n",
    "        break\n",
    "    if open_cards == open_cards_before:\n",
    "        no_action += 1\n",
    "    if not finish_run:\n",
    "        button1.wait_variable(await_next_step)\n",
    "    playerbackgrounds[i%3].config(bg = \"green\")\n",
    "    window.after(1500,update())\n",
    "    \n",
    "\n",
    "window.mainloop()\n"
   ]
  },
  {
   "cell_type": "code",
   "execution_count": null,
   "metadata": {},
   "outputs": [],
   "source": []
  }
 ],
 "metadata": {
  "kernelspec": {
   "display_name": "Python 3",
   "language": "python",
   "name": "python3"
  },
  "language_info": {
   "codemirror_mode": {
    "name": "ipython",
    "version": 3
   },
   "file_extension": ".py",
   "mimetype": "text/x-python",
   "name": "python",
   "nbconvert_exporter": "python",
   "pygments_lexer": "ipython3",
   "version": "3.11.4"
  },
  "orig_nbformat": 4
 },
 "nbformat": 4,
 "nbformat_minor": 2
}

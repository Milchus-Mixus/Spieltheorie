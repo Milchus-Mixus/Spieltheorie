{
 "cells": [
  {
   "cell_type": "code",
   "execution_count": 33,
   "metadata": {},
   "outputs": [],
   "source": [
    "import numpy as np\n",
    "import matplotlib.pyplot as plt\n",
    "from random import shuffle\n",
    "import time\n",
    "import tkinter\n",
    "import tkinter as tk\n",
    "import math\n",
    "from random import shuffle\n",
    "#test"
   ]
  },
  {
   "cell_type": "code",
   "execution_count": 34,
   "metadata": {},
   "outputs": [],
   "source": [
    "class Spieler:\n",
    "    def __init__(self, n, open_cards, hand):\n",
    "        self.known = open_cards + hand \n",
    "        self.opponent_cards = [[None, None, None] for _ in range(n-1)]\n",
    "        self.klopfen = False"
   ]
  },
  {
   "cell_type": "code",
   "execution_count": 35,
   "metadata": {},
   "outputs": [],
   "source": [
    "# Kartenfarbe: 0 = Karo; 1 = Herz; 2 = Pik; 3 = Kreuz\n",
    "# Kartenbezeichnung: 0 = 7; 1 = 8; 2 = 9; 3 = 10; 4 = Bube, 5 = Dame; 6 = König, 7 = Ass\n",
    "card_values = [7, 8, 9, 10, 10, 10, 10, 11]\n",
    "CorX=[290, 420, 550, 290, 420, 550, 30, 160, 290, 550, 680, 810]\n",
    "CorY=[420, 420, 420, 220, 220, 220, 20, 20, 20, 20, 20, 20]\n"
   ]
  },
  {
   "cell_type": "code",
   "execution_count": 36,
   "metadata": {},
   "outputs": [],
   "source": [
    "deck= []\n",
    "for i in range(4):\n",
    "    for j in range(8):\n",
    "        deck.append((i,j))\n",
    "shuffle(deck)"
   ]
  },
  {
   "cell_type": "code",
   "execution_count": 37,
   "metadata": {},
   "outputs": [],
   "source": [
    "hand = deck[:3]\n",
    "oponent_Hand_1 = deck[3:6]\n",
    "oponent_hand_2 = deck[6:9]\n",
    "open_cards = deck[9:12]\n",
    "remainder = deck[12:]"
   ]
  },
  {
   "cell_type": "code",
   "execution_count": 38,
   "metadata": {},
   "outputs": [],
   "source": [
    "spieler = [Spieler(3, hand, open_cards), Spieler(3, oponent_Hand_1, open_cards), Spieler(3, oponent_hand_2, open_cards)]"
   ]
  },
  {
   "cell_type": "code",
   "execution_count": 39,
   "metadata": {},
   "outputs": [],
   "source": [
    "def hand_sum(hand):\n",
    "    points = [0,0,0,0]\n",
    "    for elem in hand:\n",
    "        if elem is not None:\n",
    "            points[elem[0]] += card_values[elem[1]]\n",
    "    return (np.max(points), points.index(np.max(points)))"
   ]
  },
  {
   "cell_type": "code",
   "execution_count": 40,
   "metadata": {},
   "outputs": [],
   "source": [
    "def check_for_best_card(hand, open_cards):\n",
    "    best_card = [hand_sum(hand)[0], None, None]\n",
    "    for card in open_cards:\n",
    "        for position in range(3):\n",
    "            test_hand = hand.copy()\n",
    "            test_hand[position] = card\n",
    "            handsum = hand_sum(test_hand)[0]\n",
    "            if handsum > best_card[0]:\n",
    "                best_card[0], best_card[1], best_card[2] = handsum, open_cards.index(card), position\n",
    "    return best_card"
   ]
  },
  {
   "cell_type": "code",
   "execution_count": 41,
   "metadata": {},
   "outputs": [],
   "source": [
    "def turn(hand, open_cards):\n",
    "    best_card = check_for_best_card(hand, open_cards)\n",
    "    if best_card[1] != None:\n",
    "        hand[best_card[2]], open_cards[best_card[1]] = open_cards[best_card[1]], hand[best_card[2]]\n",
    "    if hand_sum(hand)[0] >= 31:\n",
    "        return True\n",
    "    return "
   ]
  },
  {
   "cell_type": "code",
   "execution_count": 42,
   "metadata": {},
   "outputs": [],
   "source": [
    "def update():\n",
    "    global label\n",
    "    Hand = hand + open_cards\n",
    "    cards = [] \n",
    "    for card in Hand:\n",
    "        cards.append(f'PNG-cards-1.3\\\\{card[0]}{card[1]}.png')\n",
    "    for j in range(6):\n",
    "        img = tkinter.PhotoImage(file = cards[j])\n",
    "        label[j].configure(image=img)\n",
    "        label[j].image = img\n"
   ]
  },
  {
   "cell_type": "code",
   "execution_count": 43,
   "metadata": {},
   "outputs": [],
   "source": [
    "def wahrscheinlichkeit(n, k, n2):\n",
    "    return n2/n\n",
    "\n",
    "def possibilities(hand, known, sum):\n",
    "    n = 0\n",
    "    deck = [(i, j) for i in range(4) for j in range(8)]\n",
    "    unknown = [elem for elem in deck if elem not in known]\n",
    "    for elem in unknown:\n",
    "        hand[2] = elem\n",
    "        if hand_sum(hand)[0] >= sum:\n",
    "            n += 1\n",
    "    print(f\"n: {n}\")\n",
    "    return n\n",
    "\n",
    "def two_unknown(hand):\n",
    "    return card_values[hand[0][1]] + 19 if hand[0] != None else 28\n",
    "\n",
    "def check_for_klopfen(hand, open_cards, spieler, j):\n",
    "    sum = hand_sum(hand)[0]\n",
    "    print(sum, spieler.opponent_cards)\n",
    "    opponent_pot_sum = [check_for_best_card(elem, open_cards)[0] if elem.count(None) < 2 else two_unknown(elem) for elem in spieler.opponent_cards ]\n",
    "    print(opponent_pot_sum)\n",
    "    if sum <= min(opponent_pot_sum):\n",
    "        return False\n",
    "    print(32-len(spieler.known), spieler.known)\n",
    "    wsk = [wahrscheinlichkeit(32-len(spieler.known), 1, possibilities(spieler.opponent_cards[i], spieler.known, sum)) for i in range(len(spieler.opponent_cards)) if opponent_pot_sum[i] <= sum]\n",
    "    print(wsk)\n",
    "    if min(wsk) < 0.5:\n",
    "        print(\"klopfen\")\n",
    "        return True\n",
    "    return False"
   ]
  },
  {
   "cell_type": "code",
   "execution_count": 44,
   "metadata": {},
   "outputs": [],
   "source": [
    "def who_loses(hand1, hand2, hand3, i):\n",
    "    hands = [hand1, hand2, hand3]\n",
    "    sums = [hand_sum(elem) for elem in hands]\n",
    "    lowest_index = [sums.index(elem) for elem in sums if elem == min(sums)]\n",
    "    if spieler[i%3].klopfen and i%3 in lowest_index:\n",
    "        lowest_index = [i%3]\n",
    "    return lowest_index\n",
    "\n"
   ]
  },
  {
   "cell_type": "code",
   "execution_count": 45,
   "metadata": {},
   "outputs": [],
   "source": [
    "def track_cards(i, open_cards_before, open_cards, spieler):\n",
    "    new_card = [elem for elem in open_cards if elem not in open_cards_before]\n",
    "    old_card = [elem for elem in open_cards_before if elem not in open_cards]\n",
    "    print(new_card, old_card)\n",
    "    if old_card == []:\n",
    "        return\n",
    "    if old_card[0] not in spieler[0].known:\n",
    "        for j in range(3):\n",
    "            spieler[j].known.append(old_card[0])\n",
    "    if i == 2:\n",
    "        if old_card in spieler[0].opponent_cards[1]:\n",
    "            spieler[0].opponent_cards[1][spieler[0].opponent_cards[1].index(old_card)] = old_card[0]\n",
    "            spieler[1].opponent_cards[1][spieler[1].opponent_cards[1].index(old_card)] = old_card[0]\n",
    "        else:\n",
    "            spieler[0].opponent_cards[1][spieler[0].opponent_cards[1].index(None)] = old_card[0]\n",
    "            spieler[1].opponent_cards[1][spieler[1].opponent_cards[1].index(None)] = old_card[0]\n",
    "    elif i == 1:\n",
    "        if old_card in spieler[0].opponent_cards[0]:\n",
    "            spieler[0].opponent_cards[0][spieler[0].opponent_cards[0].index(old_card)] = old_card[0]\n",
    "            spieler[2].opponent_cards[1][spieler[2].opponent_cards[1].index(old_card)] = old_card[0]\n",
    "        else:\n",
    "            spieler[0].opponent_cards[0][spieler[0].opponent_cards[0].index(None)] = old_card[0]\n",
    "            spieler[2].opponent_cards[1][spieler[2].opponent_cards[1].index(None)] = old_card[0]\n",
    "    elif i == 0:\n",
    "        print('hi')\n",
    "        if old_card in spieler[1].opponent_cards[0]:\n",
    "            spieler[2].opponent_cards[0][spieler[2].opponent_cards[0].index(old_card)] = old_card[0]\n",
    "            spieler[1].opponent_cards[0][spieler[1].opponent_cards[0].index(old_card)] = old_card[0]\n",
    "        else:\n",
    "            print('hallo')\n",
    "            spieler[2].opponent_cards[0][spieler[2].opponent_cards[0].index(None)] = old_card[0]\n",
    "            spieler[1].opponent_cards[0][spieler[1].opponent_cards[0].index(None)] = old_card[0]\n"
   ]
  },
  {
   "cell_type": "code",
   "execution_count": 46,
   "metadata": {},
   "outputs": [
    {
     "name": "stdout",
     "output_type": "stream",
     "text": [
      "10 [[None, None, None], [None, None, None]]\n",
      "[28, 28]\n",
      "[(2, 2), (1, 2), (3, 5)] 1 10\n",
      "[(0, 4), (1, 1), (1, 6)] Offenekarten\n",
      "[(2, 2)] [(1, 6)]\n",
      "hi\n",
      "hallo\n",
      "11 [[(1, 6), None, None], [None, None, None]]\n",
      "[29, 28]\n",
      "[(2, 3), (1, 3), (3, 7)] 2 11\n",
      "[(0, 4), (1, 1), (2, 2)] Offenekarten\n",
      "[(1, 3)] [(2, 2)]\n",
      "20 [[(1, 6), None, None], [(2, 2), None, None]]\n",
      "[29, 28]\n",
      "[(3, 4), (2, 0), (3, 6)] 3 20\n",
      "[(0, 4), (1, 1), (1, 3)] Offenekarten\n",
      "[] []\n",
      "19 [[(2, 2), None, None], [None, None, None]]\n",
      "[28, 28]\n",
      "[(1, 6), (1, 2), (3, 5)] 1 19\n",
      "[(0, 4), (1, 1), (1, 3)] Offenekarten\n",
      "[(3, 5)] [(1, 3)]\n",
      "19 [[(1, 6), None, None], [None, None, None]]\n",
      "[29, 28]\n",
      "[(2, 3), (2, 2), (3, 7)] 2 19\n",
      "[(0, 4), (1, 1), (3, 5)] Offenekarten\n",
      "[(2, 3)] [(3, 5)]\n",
      "20 [[(1, 6), None, None], [(2, 2), None, None]]\n",
      "[29, 28]\n",
      "[(3, 4), (2, 0), (3, 6)] 3 20\n",
      "[(0, 4), (1, 1), (2, 3)] Offenekarten\n",
      "[] []\n",
      "29 [[(2, 2), None, None], [None, None, None]]\n",
      "[28, 28]\n",
      "25 [(2, 2), (1, 2), (3, 5), (0, 4), (1, 1), (1, 6), (1, 3)]\n",
      "n: 0\n",
      "n: 0\n",
      "[0.0, 0.0]\n",
      "klopfen\n",
      "21 [[(1, 6), None, None], [None, None, None]]\n",
      "[29, 28]\n",
      "[(3, 5), (2, 2), (3, 7)] 2 21\n",
      "[(0, 4), (1, 1), (2, 3)] Offenekarten\n",
      "[] []\n",
      "20 [[(1, 6), None, None], [(2, 2), None, None]]\n",
      "[29, 28]\n",
      "[(3, 4), (2, 0), (3, 6)] 3 20\n",
      "[(0, 4), (1, 1), (2, 3)] Offenekarten\n",
      "[] []\n",
      "2\n"
     ]
    }
   ],
   "source": [
    "\n",
    "no_action = 0\n",
    "players = [hand, oponent_Hand_1, oponent_hand_2]\n",
    "\n",
    "def finish():\n",
    "    global finish_run\n",
    "    finish_run = True\n",
    "    await_next_step.set(1)\n",
    "\n",
    "window = tkinter.Tk()\n",
    "window.title(\"Schwimmen\")\n",
    "window.configure(background=\"green\")\n",
    "window.state(\"zoomed\")\n",
    "button1 = tkinter.Button(window, text=\"Nächster\\n Zug\",command= lambda: await_next_step.set(1))\n",
    "button1.place(x=800, y=550, width=70, height=40)\n",
    "button2 = tkinter.Button(window, text=\"Fertig\\n Spielen\",command=finish)\n",
    "button2.place(x=800, y=450, width=70, height=40)\n",
    "player2background = tk.Button(window, bg=\"green\")\n",
    "player2background.place(x = 25, y = 15, width = 400, height = 197)\n",
    "player3background = tk.Button(window, bg=\"green\")\n",
    "player3background.place(x = 545, y = 15, width = 400, height = 197)\n",
    "player1background = tk.Button(window, bg = \"green\")\n",
    "player1background.place(x = 285, y = 415, width = 400, height = 197)\n",
    "open_cards_background = tk.Button(window, bg = \"green\")\n",
    "open_cards_background.place(x = 285, y = 215, width = 400, height = 195)\n",
    "playerbackgrounds = [player1background, player2background, player3background]\n",
    "await_next_step = tk.IntVar()\n",
    "finish_run = False\n",
    "\n",
    "\n",
    "def schiebung():\n",
    "    Schiebung.place_forget()\n",
    "\n",
    "def schieben():\n",
    "    open_cards_background.config(bg = \"green\")\n",
    "\n",
    "label = []\n",
    "for i in range(12):\n",
    "    img = tkinter.PhotoImage(file= \"PNG-cards-1.3\\\\48.png\")\n",
    "    label.append(tkinter.Label(image=img))\n",
    "    label[i].place(x = CorX[i], y = CorY[i])\n",
    "    label[i].image = img\n",
    "\n",
    "Schiebung = tkinter.Button(text=\"Drei Mal geschoben,\\n Karten in der Mittte werden getauscht\") \n",
    "Schieben = tk.Button(text=\"Schieben\")\n",
    "update()\n",
    "klopfen = False\n",
    "for i in range(1000):\n",
    "    if spieler[i%3].klopfen:\n",
    "        for loser in who_loses(hand, oponent_Hand_1, oponent_hand_2, i%3):\n",
    "            playerbackgrounds[loser].config(bg = \"yellow\")\n",
    "        Hand = hand + open_cards + oponent_Hand_1 + oponent_hand_2\n",
    "        cards = [] \n",
    "        for card in Hand:\n",
    "            cards.append(f'PNG-cards-1.3\\\\{card[0]}{card[1]}.png')\n",
    "        for k in range(12):\n",
    "            img = tkinter.PhotoImage(file = cards[k])\n",
    "            label[k].config(image=img)\n",
    "            label[k].image = img\n",
    "        break\n",
    "    if not check_for_klopfen(players[i%3], open_cards, spieler[i%3], j) or klopfen or i < 3:\n",
    "        if not finish_run:\n",
    "            button1.wait_variable(await_next_step)\n",
    "        open_cards_background.config(bg = \"green\")\n",
    "        playerbackgrounds[i%3].config(bg = \"red\")\n",
    "        window.update()\n",
    "        if no_action == 3:\n",
    "            Schiebung.place(x=325, y=300, width=300, height=50)\n",
    "            window.after(2500, schiebung)\n",
    "            print(\"Schiebung\") \n",
    "            open_cards, remainder[:3] = remainder[:3], open_cards\n",
    "            shuffle(remainder)\n",
    "            no_action = 0\n",
    "        open_cards_before = open_cards.copy()\n",
    "        print(players[i%3], i%3 + 1,  hand_sum(players[i%3])[0])\n",
    "        print(open_cards, \"Offenekarten\")\n",
    "        outcome = turn(players[i%3], open_cards)\n",
    "        track_cards(i, open_cards_before, open_cards, spieler)\n",
    "        if outcome == True:\n",
    "            for loser in who_loses(hand, oponent_Hand_1, oponent_hand_2, i):\n",
    "                playerbackgrounds[loser].config(bg = \"yellow\")\n",
    "            Hand = hand + open_cards + oponent_Hand_1 + oponent_hand_2\n",
    "            cards = [] \n",
    "            for card in Hand:\n",
    "                cards.append(f'PNG-cards-1.3\\\\{card[0]}{card[1]}.png')\n",
    "            for k in range(12):\n",
    "                img = tkinter.PhotoImage(file = cards[k])\n",
    "                label[k].config(image=img)\n",
    "                label[k].image = img\n",
    "            break\n",
    "        if open_cards == open_cards_before:\n",
    "            open_cards_background.config(bg = \"blue\")\n",
    "            no_action += 1\n",
    "        else:\n",
    "            no_action = 0\n",
    "        window.update()\n",
    "        playerbackgrounds[i%3].config(bg = \"green\")\n",
    "    else:\n",
    "        spieler[i%3].klopfen = True\n",
    "        klopfen = True\n",
    "        window.update()\n",
    "        playerbackgrounds[i%3].config(bg =\"black\")\n",
    "\n",
    "    window.after(1500,update())\n",
    "    \n",
    "print(loser)\n",
    "window.mainloop()\n"
   ]
  },
  {
   "cell_type": "code",
   "execution_count": 47,
   "metadata": {},
   "outputs": [
    {
     "data": {
      "text/plain": [
       "False"
      ]
     },
     "execution_count": 47,
     "metadata": {},
     "output_type": "execute_result"
    }
   ],
   "source": [
    "spieler[1].klopfen"
   ]
  },
  {
   "cell_type": "code",
   "execution_count": 48,
   "metadata": {},
   "outputs": [
    {
     "data": {
      "text/plain": [
       "[[(2, 2), None, (3, 7)], [None, None, (3, 7)]]"
      ]
     },
     "execution_count": 48,
     "metadata": {},
     "output_type": "execute_result"
    }
   ],
   "source": [
    "spieler[0].opponent_cards"
   ]
  }
 ],
 "metadata": {
  "kernelspec": {
   "display_name": "Python 3",
   "language": "python",
   "name": "python3"
  },
  "language_info": {
   "codemirror_mode": {
    "name": "ipython",
    "version": 3
   },
   "file_extension": ".py",
   "mimetype": "text/x-python",
   "name": "python",
   "nbconvert_exporter": "python",
   "pygments_lexer": "ipython3",
   "version": "3.11.4"
  },
  "orig_nbformat": 4
 },
 "nbformat": 4,
 "nbformat_minor": 2
}

{
 "cells": [
  {
   "cell_type": "code",
   "execution_count": 1,
   "metadata": {},
   "outputs": [],
   "source": [
    "import numpy as np\n",
    "import matplotlib.pyplot as plt\n",
    "from random import shuffle\n",
    "import time\n",
    "import tkinter\n",
    "import tkinter as tk\n",
    "import math\n",
    "from random import shuffle"
   ]
  },
  {
   "cell_type": "code",
   "execution_count": 2,
   "metadata": {},
   "outputs": [],
   "source": [
    "class Spieler:\n",
    "    def __init__(self, n, open_cards, hand):\n",
    "        self.known = open_cards + hand \n",
    "        self.opponent_cards = [[None, None, None] for _ in range(n-1)]\n",
    "        self.klopfen = False"
   ]
  },
  {
   "cell_type": "code",
   "execution_count": 3,
   "metadata": {},
   "outputs": [],
   "source": [
    "# Kartenfarbe: 0 = Karo; 1 = Herz; 2 = Pik; 3 = Kreuz\n",
    "# Kartenbezeichnung: 0 = 7; 1 = 8; 2 = 9; 3 = 10; 4 = Bube, 5 = Dame; 6 = König, 7 = Ass\n",
    "card_values = [7, 8, 9, 10, 10, 10, 10, 11]\n",
    "CorX=[290, 420, 550, 290, 420, 550, 30, 160, 290, 550, 680, 810]\n",
    "CorY=[420, 420, 420, 220, 220, 220, 20, 20, 20, 20, 20, 20]\n"
   ]
  },
  {
   "cell_type": "code",
   "execution_count": 4,
   "metadata": {},
   "outputs": [],
   "source": [
    "deck= []\n",
    "for i in range(4):\n",
    "    for j in range(8):\n",
    "        deck.append((i,j))\n",
    "shuffle(deck)"
   ]
  },
  {
   "cell_type": "code",
   "execution_count": 5,
   "metadata": {},
   "outputs": [],
   "source": [
    "hand = deck[:3]\n",
    "oponent_Hand_1 = deck[3:6]\n",
    "oponent_hand_2 = deck[6:9]\n",
    "open_cards = deck[9:12]\n",
    "remainder = deck[12:]"
   ]
  },
  {
   "cell_type": "code",
   "execution_count": 6,
   "metadata": {},
   "outputs": [],
   "source": [
    "spieler = [Spieler(3, hand, open_cards), Spieler(3, oponent_Hand_1, open_cards), Spieler(3, oponent_hand_2, open_cards)]"
   ]
  },
  {
   "cell_type": "code",
   "execution_count": 7,
   "metadata": {},
   "outputs": [],
   "source": [
    "def hand_sum(hand):\n",
    "    points = [0,0,0,0]\n",
    "    for elem in hand:\n",
    "        if elem is not None:\n",
    "            points[elem[0]] += card_values[elem[1]]\n",
    "    return (np.max(points), points.index(np.max(points)))"
   ]
  },
  {
   "cell_type": "code",
   "execution_count": 8,
   "metadata": {},
   "outputs": [],
   "source": [
    "def check_for_best_card(hand, open_cards):\n",
    "    best_card = [hand_sum(hand)[0], None, None]\n",
    "    for card in open_cards:\n",
    "        for position in range(3):\n",
    "            test_hand = hand.copy()\n",
    "            test_hand[position] = card\n",
    "            handsum = hand_sum(test_hand)[0]\n",
    "            if handsum > best_card[0]:\n",
    "                best_card[0], best_card[1], best_card[2] = handsum, open_cards.index(card), position\n",
    "    return best_card"
   ]
  },
  {
   "cell_type": "code",
   "execution_count": 9,
   "metadata": {},
   "outputs": [],
   "source": [
    "def turn(hand, open_cards):\n",
    "    best_card = check_for_best_card(hand, open_cards)\n",
    "    if best_card[1] != None:\n",
    "        hand[best_card[2]], open_cards[best_card[1]] = open_cards[best_card[1]], hand[best_card[2]]\n",
    "    if hand_sum(hand)[0] >= 31:\n",
    "        return True\n",
    "    return "
   ]
  },
  {
   "cell_type": "code",
   "execution_count": 10,
   "metadata": {},
   "outputs": [],
   "source": [
    "def update():\n",
    "    global label\n",
    "    Hand = hand + open_cards\n",
    "    cards = [] \n",
    "    for card in Hand:\n",
    "        cards.append(f'PNG-cards-1.3\\\\{card[0]}{card[1]}.png')\n",
    "    for j in range(6):\n",
    "        img = tkinter.PhotoImage(file = cards[j])\n",
    "        label[j].configure(image=img)\n",
    "        label[j].image = img\n"
   ]
  },
  {
   "cell_type": "code",
   "execution_count": 11,
   "metadata": {},
   "outputs": [],
   "source": [
    "def wahrscheinlichkeit(n, k, n2):\n",
    "    return math.comb(n, k-n2)/math.comb(n, k)\n",
    "\n",
    "def possibilities(hand, known, sum):\n",
    "    n = 0\n",
    "    deck = [(i, j) for i in range(4) for j in range(8)]\n",
    "    unknown = [elem for elem in deck if elem not in known]\n",
    "    for elem in unknown:\n",
    "        hand[2] = elem\n",
    "        if hand_sum(hand)[0] >= sum:\n",
    "            n += 1\n",
    "    return n\n",
    "\n",
    "def two_unknown(hand):\n",
    "    return card_values(hand[0]) + 20 if hand[0] else 30\n",
    "\n",
    "def check_for_klopfen(hand, open_cards, spieler):\n",
    "    sum = hand_sum(hand)[0]\n",
    "    print(sum)\n",
    "    opponent_pot_sum = [check_for_best_card(elem, open_cards)[0] if elem.count(None) < 2 else two_unknown(elem) for elem in spieler.opponent_cards ]\n",
    "    print(opponent_pot_sum)\n",
    "    if sum < min(opponent_pot_sum):\n",
    "        return False\n",
    "    print(32-len(spieler.known), spieler.known)\n",
    "    wsk = [wahrscheinlichkeit(32-len(spieler.known), 1, possibilities(spieler.opponent_cards[i], spieler.known, sum)) for i in range(len(spieler.opponent_cards)) if opponent_pot_sum[i] < sum]\n",
    "    print(wsk)\n",
    "    if min(wsk) < 0.5:\n",
    "        return True\n",
    "    return False"
   ]
  },
  {
   "cell_type": "code",
   "execution_count": 12,
   "metadata": {},
   "outputs": [],
   "source": [
    "def who_loses(hand1, hand2, hand3):\n",
    "    hand_sums = [hand_sum(hand1)[0], hand_sum(hand2)[0], hand_sum(hand3)[0]]\n",
    "    return hand_sums.index(np.min(hand_sums))\n"
   ]
  },
  {
   "cell_type": "code",
   "execution_count": 13,
   "metadata": {},
   "outputs": [
    {
     "name": "stdout",
     "output_type": "stream",
     "text": [
      "20\n",
      "[30, 30]\n",
      "[(1, 3), (2, 2), (1, 5)] 1 20\n",
      "[(3, 5), (2, 6), (2, 1)] Offenekarten\n",
      "10\n",
      "[30, 30]\n",
      "[(0, 0), (1, 6), (3, 0)] 2 10\n",
      "[(3, 5), (2, 6), (2, 1)] Offenekarten\n",
      "10\n",
      "[30, 30]\n",
      "[(3, 3), (0, 3), (1, 0)] 3 10\n",
      "[(0, 0), (2, 6), (2, 1)] Offenekarten\n",
      "20\n",
      "[30, 30]\n",
      "[(1, 3), (2, 2), (1, 5)] 1 20\n",
      "[(3, 3), (2, 6), (2, 1)] Offenekarten\n",
      "17\n",
      "[30, 30]\n",
      "[(3, 5), (1, 6), (3, 0)] 2 17\n",
      "[(3, 3), (2, 6), (2, 1)] Offenekarten\n",
      "17\n",
      "[30, 30]\n",
      "[(0, 0), (0, 3), (1, 0)] 3 17\n",
      "[(1, 6), (2, 6), (2, 1)] Offenekarten\n",
      "20\n",
      "[30, 30]\n",
      "Schiebung\n",
      "[(1, 3), (2, 2), (1, 5)] 1 20\n",
      "[(0, 5), (3, 6), (0, 7)] Offenekarten\n",
      "27\n",
      "[30, 30]\n",
      "[(3, 5), (3, 3), (3, 0)] 2 27\n",
      "[(0, 5), (3, 6), (0, 7)] Offenekarten\n",
      "17\n",
      "[30, 30]\n",
      "[(0, 0), (0, 3), (1, 0)] 3 17\n",
      "[(0, 5), (3, 0), (0, 7)] Offenekarten\n",
      "20\n",
      "[30, 30]\n",
      "[(1, 3), (2, 2), (1, 5)] 1 20\n",
      "[(0, 5), (3, 0), (1, 0)] Offenekarten\n",
      "30\n",
      "[30, 30]\n",
      "26 [(0, 0), (1, 6), (3, 0), (3, 5), (2, 6), (2, 1)]\n",
      "[]\n"
     ]
    },
    {
     "ename": "ValueError",
     "evalue": "min() arg is an empty sequence",
     "output_type": "error",
     "traceback": [
      "\u001b[1;31m---------------------------------------------------------------------------\u001b[0m",
      "\u001b[1;31mValueError\u001b[0m                                Traceback (most recent call last)",
      "Cell \u001b[1;32mIn[13], line 52\u001b[0m\n\u001b[0;32m     50\u001b[0m     playerbackgrounds[loser]\u001b[39m.\u001b[39mconfig(bg \u001b[39m=\u001b[39m \u001b[39m\"\u001b[39m\u001b[39myellow\u001b[39m\u001b[39m\"\u001b[39m)\n\u001b[0;32m     51\u001b[0m     \u001b[39mbreak\u001b[39;00m\n\u001b[1;32m---> 52\u001b[0m \u001b[39mif\u001b[39;00m \u001b[39mnot\u001b[39;00m check_for_klopfen(players[i\u001b[39m%\u001b[39;49m\u001b[39m3\u001b[39;49m], open_cards, spieler[i\u001b[39m%\u001b[39;49m\u001b[39m3\u001b[39;49m]):\n\u001b[0;32m     53\u001b[0m     \u001b[39mif\u001b[39;00m \u001b[39mnot\u001b[39;00m finish_run:\n\u001b[0;32m     54\u001b[0m         button1\u001b[39m.\u001b[39mwait_variable(await_next_step)\n",
      "Cell \u001b[1;32mIn[11], line 27\u001b[0m, in \u001b[0;36mcheck_for_klopfen\u001b[1;34m(hand, open_cards, spieler)\u001b[0m\n\u001b[0;32m     25\u001b[0m wsk \u001b[39m=\u001b[39m [wahrscheinlichkeit(\u001b[39m32\u001b[39m\u001b[39m-\u001b[39m\u001b[39mlen\u001b[39m(spieler\u001b[39m.\u001b[39mknown), \u001b[39m1\u001b[39m, possibilities(spieler\u001b[39m.\u001b[39mopponent_cards[i], spieler\u001b[39m.\u001b[39mknown, \u001b[39msum\u001b[39m)) \u001b[39mfor\u001b[39;00m i \u001b[39min\u001b[39;00m \u001b[39mrange\u001b[39m(\u001b[39mlen\u001b[39m(spieler\u001b[39m.\u001b[39mopponent_cards)) \u001b[39mif\u001b[39;00m opponent_pot_sum[i] \u001b[39m<\u001b[39m \u001b[39msum\u001b[39m]\n\u001b[0;32m     26\u001b[0m \u001b[39mprint\u001b[39m(wsk)\n\u001b[1;32m---> 27\u001b[0m \u001b[39mif\u001b[39;00m \u001b[39mmin\u001b[39;49m(wsk) \u001b[39m<\u001b[39m \u001b[39m0.5\u001b[39m:\n\u001b[0;32m     28\u001b[0m     \u001b[39mreturn\u001b[39;00m \u001b[39mTrue\u001b[39;00m\n\u001b[0;32m     29\u001b[0m \u001b[39mreturn\u001b[39;00m \u001b[39mFalse\u001b[39;00m\n",
      "\u001b[1;31mValueError\u001b[0m: min() arg is an empty sequence"
     ]
    },
    {
     "ename": "",
     "evalue": "",
     "output_type": "error",
     "traceback": [
      "\u001b[1;31mThe Kernel crashed while executing code in the the current cell or a previous cell. Please review the code in the cell(s) to identify a possible cause of the failure. Click <a href='https://aka.ms/vscodeJupyterKernelCrash'>here</a> for more info. View Jupyter <a href='command:jupyter.viewOutput'>log</a> for further details."
     ]
    }
   ],
   "source": [
    "\n",
    "no_action = 0\n",
    "players = [hand, oponent_Hand_1, oponent_hand_2]\n",
    "\n",
    "def finish():\n",
    "    global finish_run\n",
    "    finish_run = True\n",
    "    await_next_step.set(1)\n",
    "\n",
    "window = tkinter.Tk()\n",
    "window.title(\"Schwimmen\")\n",
    "window.configure(background=\"green\")\n",
    "window.attributes(\"-topmost\", True)\n",
    "window.state(\"zoomed\")\n",
    "button1 = tkinter.Button(window, text=\"Nächster\\n Zug\",command= lambda: await_next_step.set(1))\n",
    "button1.place(x=800, y=550, width=70, height=40)\n",
    "button2 = tkinter.Button(window, text=\"Fertig\\n Spielen\",command=finish)\n",
    "button2.place(x=800, y=450, width=70, height=40)\n",
    "player2background = tk.Button(window, bg=\"green\")\n",
    "player2background.place(x = 25, y = 15, width = 400, height = 197)\n",
    "player3background = tk.Button(window, bg=\"green\")\n",
    "player3background.place(x = 545, y = 15, width = 400, height = 197)\n",
    "player1background = tk.Button(window, bg = \"green\")\n",
    "player1background.place(x = 285, y = 415, width = 400, height = 197)\n",
    "open_cards_background = tk.Button(window, bg = \"green\")\n",
    "open_cards_background.place(x = 285, y = 215, width = 400, height = 195)\n",
    "playerbackgrounds = [player1background, player2background, player3background]\n",
    "await_next_step = tk.IntVar()\n",
    "finish_run = False\n",
    "\n",
    "\n",
    "def schiebung():\n",
    "    Schiebung.place_forget()\n",
    "\n",
    "def schieben():\n",
    "    open_cards_background.config(bg = \"green\")\n",
    "\n",
    "label = []\n",
    "for i in range(12):\n",
    "    img = tkinter.PhotoImage(file= \"PNG-cards-1.3\\\\48.png\")\n",
    "    label.append(tkinter.Label(image=img))\n",
    "    label[i].place(x = CorX[i], y = CorY[i])\n",
    "    label[i].image = img\n",
    "\n",
    "Schiebung = tkinter.Button(text=\"Drei Mal geschoben,\\n Karten in der Mittte werden getauscht\") \n",
    "Schieben = tk.Button(text=\"Schieben\")\n",
    "update()\n",
    "for i in range(1000):\n",
    "    if spieler[i%3].klopfen:\n",
    "        loser = who_loses(hand, oponent_Hand_1, oponent_hand_2)\n",
    "        playerbackgrounds[loser].config(bg = \"yellow\")\n",
    "        break\n",
    "    if not check_for_klopfen(players[i%3], open_cards, spieler[i%3]):\n",
    "        if not finish_run:\n",
    "            button1.wait_variable(await_next_step)\n",
    "        open_cards_background.config(bg = \"green\")\n",
    "        playerbackgrounds[i%3].config(bg = \"red\")\n",
    "        window.update()\n",
    "        if no_action == 3:\n",
    "            Schiebung.place(x=325, y=300, width=300, height=50)\n",
    "            window.after(2500, schiebung)\n",
    "            print(\"Schiebung\") \n",
    "            open_cards, remainder[:3] = remainder[:3], open_cards\n",
    "            shuffle(remainder)\n",
    "            no_action = 0\n",
    "        open_cards_before = open_cards.copy()\n",
    "        print(players[i%3], i%3 + 1,  hand_sum(players[i%3])[0])\n",
    "        print(open_cards, \"Offenekarten\")\n",
    "        outcome = turn(players[i%3], open_cards)\n",
    "        if outcome == True:\n",
    "            loser = who_loses(hand, oponent_Hand_1, oponent_hand_2)\n",
    "            playerbackgrounds[loser].config(bg = \"yellow\")\n",
    "            Hand = hand + open_cards + oponent_Hand_1 + oponent_hand_2\n",
    "            cards = [] \n",
    "            for card in Hand:\n",
    "                cards.append(f'PNG-cards-1.3\\\\{card[0]}{card[1]}.png')\n",
    "            for k in range(12):\n",
    "                img = tkinter.PhotoImage(file = cards[k])\n",
    "                label[k].config(image=img)\n",
    "                label[k].image = img\n",
    "            break\n",
    "        if open_cards == open_cards_before:\n",
    "            open_cards_background.config(bg = \"blue\")\n",
    "            no_action += 1\n",
    "    else:\n",
    "        spieler[i%3].klopfen = True\n",
    "    window.update()\n",
    "    playerbackgrounds[i%3].config(bg = \"green\")\n",
    "    window.after(1500,update())\n",
    "    \n",
    "\n",
    "window.mainloop()\n"
   ]
  },
  {
   "cell_type": "code",
   "execution_count": null,
   "metadata": {},
   "outputs": [],
   "source": []
  }
 ],
 "metadata": {
  "kernelspec": {
   "display_name": "Python 3",
   "language": "python",
   "name": "python3"
  },
  "language_info": {
   "codemirror_mode": {
    "name": "ipython",
    "version": 3
   },
   "file_extension": ".py",
   "mimetype": "text/x-python",
   "name": "python",
   "nbconvert_exporter": "python",
   "pygments_lexer": "ipython3",
   "version": "3.11.4"
  },
  "orig_nbformat": 4
 },
 "nbformat": 4,
 "nbformat_minor": 2
}

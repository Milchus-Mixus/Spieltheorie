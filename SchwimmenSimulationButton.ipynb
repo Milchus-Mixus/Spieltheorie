{
 "cells": [
  {
   "cell_type": "code",
   "execution_count": 1,
   "metadata": {},
   "outputs": [],
   "source": [
    "import numpy as np\n",
    "import matplotlib.pyplot as plt\n",
    "from random import shuffle\n",
    "import time\n",
    "import tkinter"
   ]
  },
  {
   "cell_type": "code",
   "execution_count": 2,
   "metadata": {},
   "outputs": [],
   "source": [
    "# Kartenfarbe: 0 = Karo; 1 = Herz; 2 = Pik; 3 = Kreuz\n",
    "# Kartenbezeichnung: 0 = 7; 1 = 8; 2 = 9; 3 = 10; 4 = Bube, 5 = Dame; 6 = König, 7 = Ass\n",
    "card_values = [7, 8, 9, 10, 10, 10, 10, 11]\n",
    "CorX=[290, 420, 550, 290, 420, 550, 30, 160, 290, 550, 680, 810]\n",
    "CorY=[420, 420, 420, 220, 220, 220, 20, 20, 20, 20, 20, 20]"
   ]
  },
  {
   "cell_type": "code",
   "execution_count": 3,
   "metadata": {},
   "outputs": [],
   "source": [
    "deck= []\n",
    "for i in range(4):\n",
    "    for j in range(8):\n",
    "        deck.append((i,j))\n",
    "shuffle(deck)"
   ]
  },
  {
   "cell_type": "code",
   "execution_count": 4,
   "metadata": {},
   "outputs": [],
   "source": [
    "hand = deck[:3]\n",
    "oponent_Hand_1 = deck[3:6]\n",
    "oponent_hand_2 = deck[6:9]\n",
    "open_cards = deck[9:12]\n",
    "remainder = deck[12:]"
   ]
  },
  {
   "cell_type": "code",
   "execution_count": 5,
   "metadata": {},
   "outputs": [],
   "source": [
    "def hand_sum(hand):\n",
    "    points = np.zeros(4)\n",
    "    for elem in hand:\n",
    "        if elem is not None:\n",
    "            points[elem[0]] += card_values[elem[1]]\n",
    "    return np.max(points)"
   ]
  },
  {
   "cell_type": "code",
   "execution_count": 6,
   "metadata": {},
   "outputs": [],
   "source": [
    "def turn(hand, open_cards):\n",
    "    best_card = [hand_sum(hand), None, None]\n",
    "    for card in open_cards:\n",
    "        for position in range(3):\n",
    "            test_hand = hand.copy()\n",
    "            test_hand[position] = card\n",
    "            handsum = hand_sum(test_hand)\n",
    "            if handsum > best_card[0]:\n",
    "                best_card[0], best_card[1], best_card[2] = handsum, open_cards.index(card), position\n",
    "    if best_card[1] != None:\n",
    "        hand[best_card[2]], open_cards[best_card[1]] = open_cards[best_card[1]], hand[best_card[2]]\n",
    "    if hand_sum(hand) >= 31:\n",
    "        return True\n",
    "    return "
   ]
  },
  {
   "cell_type": "code",
   "execution_count": 7,
   "metadata": {},
   "outputs": [
    {
     "name": "stdout",
     "output_type": "stream",
     "text": [
      "[(3, 3), (0, 0), (0, 7)] 1 18.0\n",
      "[(0, 3), (0, 6), (1, 1)] Offenekarten\n",
      "[(1, 7), (3, 5), (1, 5)] 2 21.0\n",
      "[(3, 3), (0, 6), (1, 1)] Offenekarten\n",
      "[(3, 1), (1, 3), (2, 6)] 3 10.0\n",
      "[(3, 3), (0, 6), (3, 5)] Offenekarten\n",
      "[(0, 3), (0, 0), (0, 7)] 1 28.0\n",
      "[(1, 3), (0, 6), (3, 5)] Offenekarten\n",
      "Player 1 wins.\n"
     ]
    },
    {
     "name": "stderr",
     "output_type": "stream",
     "text": [
      "Exception in Tkinter callback\n",
      "Traceback (most recent call last):\n",
      "  File \"c:\\Users\\xmemm\\AppData\\Local\\Programs\\Python\\Python310\\lib\\tkinter\\__init__.py\", line 1921, in __call__\n",
      "    return self.func(*args)\n",
      "TypeError: Finish() missing 1 required positional argument: 'weiter'\n",
      "Exception in Tkinter callback\n",
      "Traceback (most recent call last):\n",
      "  File \"c:\\Users\\xmemm\\AppData\\Local\\Programs\\Python\\Python310\\lib\\tkinter\\__init__.py\", line 1921, in __call__\n",
      "    return self.func(*args)\n",
      "TypeError: Continue() missing 1 required positional argument: 'weiter'\n"
     ]
    }
   ],
   "source": [
    "no_action = 0\n",
    "players = [hand, oponent_Hand_1, oponent_hand_2]\n",
    "window = tkinter.Tk()\n",
    "window.title(\"Schwimmen\")\n",
    "window.configure(background=\"green\")\n",
    "window.attributes(\"-fullscreen\", True)\n",
    "window.attributes(\"-topmost\", True)\n",
    "label = []\n",
    "for i in range(12):\n",
    "    label.append(i)\n",
    "    img = tkinter.PhotoImage(file= \"PNG-cards-1.3\\\\48.png\")\n",
    "    label[i] = tkinter.Label(image=img)\n",
    "    label[i].photo = img\n",
    "    label[i].place(x = CorX[i], y = CorY[i])\n",
    "\n",
    "def Continue(weiter):\n",
    "    #print(\"Weiter\")\n",
    "    weiter=True\n",
    "    return(weiter)\n",
    "def Finish(fertig):\n",
    "    #print(\"Fertig\")\n",
    "    fertig=True\n",
    "    return(fertig)\n",
    "\n",
    "def update():\n",
    "    #time.sleep(2)\n",
    "    Hand = hand + open_cards\n",
    "    cards = [] \n",
    "    button1 = tkinter.Button(text=\"Nächster\\n Zug\",command=Continue)\n",
    "    button1.place(x=800, y=550, width=70, height=40)\n",
    "    button2 = tkinter.Button(text=\"Fertig\\n Spielen\",command=Finish)\n",
    "    button2.place(x=800, y=450, width=70, height=40)\n",
    "\n",
    "    for card in Hand:\n",
    "        cards.append(f'PNG-cards-1.3\\\\{card[0]}{card[1]}.png')\n",
    "    for j in range(6):\n",
    "        img = tkinter.PhotoImage(file = cards[j])\n",
    "        label[j].configure(image=img)\n",
    "        label[j].photo = img\n",
    "    return\n",
    "\n",
    "for i in range(1000):\n",
    "    if no_action == 3:\n",
    "        print(\"Schiebung\") \n",
    "        open_cards, remainder[:3] = remainder[:3], open_cards\n",
    "        shuffle(remainder)\n",
    "        no_action = 0\n",
    "    open_cards_before = open_cards.copy()\n",
    "    print(players[i%3], i%3 + 1,  hand_sum(players[i%3]))\n",
    "    print(open_cards, \"Offenekarten\")\n",
    "    outcome = turn(players[i%3], open_cards)\n",
    "    if outcome == True:\n",
    "        print(f'Player {i%3 + 1} wins.')\n",
    "        Hand = hand + open_cards + oponent_Hand_1 + oponent_hand_2\n",
    "        cards = [] \n",
    "        for card in Hand:\n",
    "            cards.append(f'PNG-cards-1.3\\\\{card[0]}{card[1]}.png')\n",
    "        for k in range(12):\n",
    "            img = tkinter.PhotoImage(file = cards[k])\n",
    "            label[k].configure(image=img)\n",
    "            label[k].photo = img\n",
    "        break\n",
    "    if open_cards == open_cards_before:\n",
    "        no_action += 1\n",
    "    # while not weiter:\n",
    "    #     pass\n",
    "    update()\n",
    "\n",
    "\n",
    "window.mainloop()\n"
   ]
  },
  {
   "cell_type": "code",
   "execution_count": null,
   "metadata": {},
   "outputs": [],
   "source": []
  }
 ],
 "metadata": {
  "kernelspec": {
   "display_name": "Python 3",
   "language": "python",
   "name": "python3"
  },
  "language_info": {
   "codemirror_mode": {
    "name": "ipython",
    "version": 3
   },
   "file_extension": ".py",
   "mimetype": "text/x-python",
   "name": "python",
   "nbconvert_exporter": "python",
   "pygments_lexer": "ipython3",
   "version": "3.10.2"
  },
  "orig_nbformat": 4
 },
 "nbformat": 4,
 "nbformat_minor": 2
}
